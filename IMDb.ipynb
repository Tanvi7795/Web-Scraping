{
  "nbformat": 4,
  "nbformat_minor": 0,
  "metadata": {
    "colab": {
      "name": "101903055_Tanvi_IMDb(b).ipynb",
      "provenance": []
    },
    "kernelspec": {
      "name": "python3",
      "display_name": "Python 3"
    },
    "language_info": {
      "name": "python"
    }
  },
  "cells": [
    {
      "cell_type": "markdown",
      "source": [
        "***Consider the following Link: https://www.imdb.com/search/title/?release_date=2020&sort=num_votes,desc&page=1. The page contains information about movies released in the year 2020 sorted according to number of votes. Scrape the following information for the first 1000 movies: (i) Movie name (ii) IMDB Rating (iii) Description (iv) Votes (v) Director(s) (vi) Stars (vii) Metascore (viii) Movie Genre (ix) Total Duration***"
      ],
      "metadata": {
        "id": "j-whJftomZ-C"
      }
    },
    {
      "cell_type": "code",
      "metadata": {
        "colab": {
          "base_uri": "https://localhost:8080/"
        },
        "id": "9eVSnRXqAb_1",
        "outputId": "bce86824-f4d2-4f90-d598-681cc1c8a51d"
      },
      "source": [
        "!pip install bs4\n",
        "!pip install requests"
      ],
      "execution_count": null,
      "outputs": [
        {
          "output_type": "stream",
          "name": "stdout",
          "text": [
            "Requirement already satisfied: bs4 in /usr/local/lib/python3.7/dist-packages (0.0.1)\n",
            "Requirement already satisfied: beautifulsoup4 in /usr/local/lib/python3.7/dist-packages (from bs4) (4.6.3)\n",
            "Requirement already satisfied: requests in /usr/local/lib/python3.7/dist-packages (2.23.0)\n",
            "Requirement already satisfied: certifi>=2017.4.17 in /usr/local/lib/python3.7/dist-packages (from requests) (2021.10.8)\n",
            "Requirement already satisfied: chardet<4,>=3.0.2 in /usr/local/lib/python3.7/dist-packages (from requests) (3.0.4)\n",
            "Requirement already satisfied: urllib3!=1.25.0,!=1.25.1,<1.26,>=1.21.1 in /usr/local/lib/python3.7/dist-packages (from requests) (1.24.3)\n",
            "Requirement already satisfied: idna<3,>=2.5 in /usr/local/lib/python3.7/dist-packages (from requests) (2.10)\n"
          ]
        }
      ]
    },
    {
      "cell_type": "code",
      "metadata": {
        "id": "uSL-DTT-Azty"
      },
      "source": [
        "from bs4 import BeautifulSoup\n",
        "import requests"
      ],
      "execution_count": null,
      "outputs": []
    },
    {
      "cell_type": "code",
      "metadata": {
        "id": "vGs4R-3UA4_6"
      },
      "source": [
        "def get_data(pageno):\n",
        "  global directors, stars\n",
        "  page=pageno-1\n",
        "  url=('https://www.imdb.com/search/title/?release_date=2020-01-01,2020-12-31&sort=num_votes,desc&start='+str(1+50*page)+'&ref_=adv_nxt')\n",
        "  content=requests.get(url).text\n",
        "  soup=BeautifulSoup(content, 'html.parser')\n",
        "  #soup=soup.prettify() #for indentation\n",
        "  table=[]\n",
        "  for itemcon in soup.find_all('div', class_='lister-item-content'):\n",
        "    movie_details=[]\n",
        "    moviename=itemcon.h3.a\n",
        "    rate=itemcon.find('div', class_='ratings-bar')\n",
        "    rating=rate.strong\n",
        "    desc=itemcon.find_all('p', class_='text-muted')\n",
        "    desp=desc[1]\n",
        "    vote=itemcon.find('p', class_='sort-num_votes-visible')\n",
        "    v=vote.find_all('span')\n",
        "    votes=v[1].text\n",
        "\n",
        "    ptag=itemcon.find_all('p', class_='')\n",
        "    if ptag is not None:\n",
        "      moviecast=ptag[0].text\n",
        "      x=moviecast.split('|')\n",
        "      if len(x)==2:\n",
        "        x1=x[0].replace('\\n',''); x1=x1.split(':')\n",
        "        directors=x1[1]\n",
        "        x2=x[1].replace('\\n',''); x2=x2.split(':')\n",
        "        stars=x2[1]\n",
        "      if len(x)==1:\n",
        "        x1=x[0].replace('\\n',''); x1=x1.split(':')\n",
        "        if x1[0]==\"Director\" or \"Director(s)\" or \"Directors\":\n",
        "          directors=x1[1]\n",
        "          stars=None\n",
        "        if x1[0]==\"Star\" or \"Stars\" or \"Star(s)\":\n",
        "          stars=x1[1]\n",
        "          directors=None\n",
        "    else:\n",
        "       stars=None\n",
        "       directors=None\n",
        "    \n",
        "    rate=itemcon.find('div', class_='ratings-bar')\n",
        "    meta=rate.find('div', class_='inline-block ratings-metascore')\n",
        "    if meta is not None:\n",
        "      metascore=meta.span.text\n",
        "    else:\n",
        "      metascore=None\n",
        "    t_muted=itemcon.find('p', class_='text-muted')\n",
        "    genre=t_muted.find('span', class_='genre')\n",
        "    t_muted=itemcon.find('p', class_='text-muted')\n",
        "    duration=t_muted.find('span', class_='runtime')\n",
        "    \n",
        "    if moviename is not None:\n",
        "      moviename=itemcon.h3.a.text\n",
        "      movie_details.append(moviename)\n",
        "    else:\n",
        "      movie_details.append(None)\n",
        "    if rating is not None:\n",
        "      rating=rate.strong.text\n",
        "      movie_details.append(rating)\n",
        "    else:\n",
        "      movie_details.append(None)\n",
        "    if desp is not None:\n",
        "      desp=desc[1].text \n",
        "      desp=desp.replace('\\n','')\n",
        "      movie_details.append(desp)\n",
        "    else:\n",
        "      movie_details.append(None)\n",
        "    if votes is not None:\n",
        "      votes=v[1].text\n",
        "      movie_details.append(votes)\n",
        "    else:\n",
        "      movie_details.append(None)\n",
        "\n",
        "    if directors is not None:\n",
        "      movie_details.append(directors)\n",
        "    else:\n",
        "      movie_details.append(None)\n",
        "    if stars is not None:\n",
        "      movie_details.append(stars)\n",
        "    else:\n",
        "      movie_details.append(None)\n",
        "\n",
        "    if metascore is not None:\n",
        "      metascore=meta.span.text\n",
        "      movie_details.append(metascore)\n",
        "    else:\n",
        "      movie_details.append(None)\n",
        "    if genre is not None:\n",
        "      genre=t_muted.find('span', class_='genre').text\n",
        "      genre=genre.replace('\\n','')\n",
        "      movie_details.append(genre)\n",
        "    else:\n",
        "      movie_details.append(None)\n",
        "    if duration is not None:\n",
        "      duration=t_muted.find('span', class_='runtime').text\n",
        "      movie_details.append(duration)\n",
        "    else:\n",
        "      movie_details.append(None)\n",
        "\n",
        "    table.append(movie_details)\n",
        "  return table"
      ],
      "execution_count": null,
      "outputs": []
    },
    {
      "cell_type": "code",
      "metadata": {
        "colab": {
          "base_uri": "https://localhost:8080/"
        },
        "id": "8nEIGWCKA-x0",
        "outputId": "cbd78842-554f-44b9-ea88-4c8749c5735e"
      },
      "source": [
        "!pip install pandas "
      ],
      "execution_count": null,
      "outputs": [
        {
          "output_type": "stream",
          "name": "stdout",
          "text": [
            "Requirement already satisfied: pandas in /usr/local/lib/python3.7/dist-packages (1.1.5)\n",
            "Requirement already satisfied: numpy>=1.15.4 in /usr/local/lib/python3.7/dist-packages (from pandas) (1.19.5)\n",
            "Requirement already satisfied: pytz>=2017.2 in /usr/local/lib/python3.7/dist-packages (from pandas) (2018.9)\n",
            "Requirement already satisfied: python-dateutil>=2.7.3 in /usr/local/lib/python3.7/dist-packages (from pandas) (2.8.2)\n",
            "Requirement already satisfied: six>=1.5 in /usr/local/lib/python3.7/dist-packages (from python-dateutil>=2.7.3->pandas) (1.15.0)\n"
          ]
        }
      ]
    },
    {
      "cell_type": "code",
      "metadata": {
        "id": "84OnBAkIEFtG"
      },
      "source": [
        "import pandas as pd\n",
        "pg=[]\n",
        "for i in range(1,21):\n",
        "    pg.append(get_data(i))\n",
        "flatten = lambda l: [item for sublist in l for item in sublist]\n",
        "print(flatten(pg))\n",
        "df = pd.DataFrame(flatten(pg),columns=['Name','Rating','Description','Votes', 'Directors', 'Stars', 'Metascore', 'Genre', 'Duration'])"
      ],
      "execution_count": null,
      "outputs": []
    }
  ]
}